{
 "cells": [
  {
   "cell_type": "markdown",
   "metadata": {},
   "source": [
    "# Solution for the 3rd TP"
   ]
  },
  {
   "cell_type": "markdown",
   "metadata": {},
   "source": [
    "SJ=1..8, t=k+1=(OS(L,J).∑T(Si,R,J).Ssi)/normalization\n"
   ]
  },
  {
   "cell_type": "code",
   "execution_count": 1,
   "metadata": {},
   "outputs": [],
   "source": [
    "import numpy as np"
   ]
  },
  {
   "cell_type": "code",
   "execution_count": 2,
   "metadata": {},
   "outputs": [],
   "source": [
    "#Tg is the transition matrix if we go \"Gauche\"\n",
    "Tg = np.matrix([[0.15, 0.05, 0.05, 0.05, 0.05, 0.05, 0.05, 0.05],\n",
    "                [0.8, 0.15, 0.05, 0.05, 0.05, 0.05, 0.05, 0.05],\n",
    "                [0.05, 0.05, 0.15, 0.05, 0.05, 0.05, 0.05, 0.05],\n",
    "                [0.05, 0.8, 0.05, 0.15, 0.05, 0.05, 0.05, 0.05],\n",
    "                [0.05, 0.05, 0.05, 0.05, 0.15, 0.05, 0.05, 0.05],\n",
    "                [0.05, 0.05, 0.05, 0.05, 0.05, 0.15, 0.05, 0.05],\n",
    "                [0.05, 0.05, 0.05, 0.8, 0.05, 0.05, 0.15, 0.05],\n",
    "                [0.05, 0.05, 0.05, 0.05, 0.05, 0.05, 0.05, 0.15]])\n",
    "#Th is the transition matrix if we go \"Haut\"\n",
    "Th = np.matrix([[0.15, 0.05, 0.05, 0.05, 0.05, 0.05, 0.05, 0.05],\n",
    "                [0.05, 0.15, 0.05, 0.05, 0.05, 0.05, 0.05, 0.05],\n",
    "                [0.05, 0.05, 0.15, 0.05, 0.05, 0.05, 0.05, 0.05],\n",
    "                [0.05, 0.8, 0.05, 0.15, 0.8, 0.05, 0.05, 0.05],\n",
    "                [0.05, 0.05, 0.05, 0.05, 0.15, 0.05, 0.05, 0.05],\n",
    "                [0.05, 0.05, 0.05, 0.8, 0.05, 0.15, 0.05, 0.05],\n",
    "                [0.05, 0.05, 0.05, 0.05, 0.05, 0.05, 0.15, 0.05],\n",
    "                [0.05, 0.05, 0.05, 0.05, 0.05, 0.05, 0.05, 0.15]])\n",
    "#Td is the transition matrix if we go \"Doite\"\n",
    "Td = np.matrix([[0.15, 0.8, 0.05, 0.05, 0.05, 0.05, 0.05, 0.05],\n",
    "                [0.05, 0.15, 0.05, 0.8, 0.05, 0.05, 0.05, 0.05],\n",
    "                [0.05, 0.05, 0.15, 0.05, 0.05, 0.05, 0.05, 0.05],\n",
    "                [0.05, 0.05, 0.05, 0.15, 0.05, 0.05, 0.8, 0.05],\n",
    "                [0.05, 0.05, 0.05, 0.05, 0.15, 0.05, 0.05, 0.05],\n",
    "                [0.05, 0.05, 0.05, 0.05, 0.05, 0.15, 0.05, 0.05],\n",
    "                [0.05, 0.05, 0.05, 0.05, 0.05, 0.05, 0.15, 0.05],\n",
    "                [0.05, 0.05, 0.05, 0.05, 0.05, 0.05, 0.05, 0.15]])\n",
    "#Tb is the transition matrix if we go \"Bas\"\n",
    "Tb = np.matrix([[0.15, 0.05, 0.05, 0.05, 0.05, 0.05, 0.05, 0.05],\n",
    "                [0.05, 0.15, 0.05, 0.05, 0.05, 0.05, 0.05, 0.05],\n",
    "                [0.05, 0.8, 0.15, 0.05, 0.05, 0.05, 0.05, 0.05],\n",
    "                [0.05, 0.05, 0.05, 0.15, 0.05, 0.8, 0.8, 0.05],\n",
    "                [0.05, 0.05, 0.05, 0.8, 0.15, 0.05, 0.05, 0.05],\n",
    "                [0.05, 0.05, 0.05, 0.05, 0.05, 0.15, 0.05, 0.05],\n",
    "                [0.05, 0.05, 0.05, 0.05, 0.05, 0.05, 0.15, 0.8],\n",
    "                [0.05, 0.05, 0.05, 0.05, 0.05, 0.05, 0.05, 0.15]])"
   ]
  },
  {
   "cell_type": "code",
   "execution_count": 3,
   "metadata": {},
   "outputs": [],
   "source": [
    "#O is the observation matrix\n",
    "O = np.matrix([[0.9, 0.08, 0.01, 0.01], \n",
    "               [0.08, 0.85, 0.06, 0.01], \n",
    "               [0.01, 0.06, 0.88, 0.05], \n",
    "               [0.01, 0.01, 0.05, 0.93]\n",
    "              ])\n",
    "\n",
    "#real_map_ob is the what we actually see for every position i (j=1..8)\n",
    "real_map_ob = np.array(['U', 'T', 'U', 'X', 'U', 'U', 'L', 'U']) \n",
    "ob_dict = {'X':0, 'T':1, 'L':2, 'U':3}"
   ]
  },
  {
   "cell_type": "code",
   "execution_count": 4,
   "metadata": {},
   "outputs": [],
   "source": [
    "SE = np.array([0.05, 0.1, 0.1, 0.7, 0.005, 0.01, 0.005, 0.03])"
   ]
  },
  {
   "cell_type": "code",
   "execution_count": 5,
   "metadata": {},
   "outputs": [],
   "source": [
    "def get_transition_matrix(action):\n",
    "    try:\n",
    "        return {'G':Tg, 'D':Td, 'H':Th, 'B':Tb}[action.upper()[0]]\n",
    "    except KeyError:\n",
    "        print(\"\"\"Please check that the chosen action in one of the following : \n",
    "              Gauche (or G), Droite (or D), Haut (or H), Bas (or B)\n",
    "              \"\"\")\n",
    "        exit(1)"
   ]
  },
  {
   "cell_type": "code",
   "execution_count": 6,
   "metadata": {},
   "outputs": [],
   "source": [
    "def main(Obs, act, SE):\n",
    "     # the probability to see Obs=given observation in the next state J \n",
    "    T = get_transition_matrix(act)\n",
    "    next_SE = 8*[0]\n",
    "    for j in range(8):\n",
    "        OS = O[ob_dict[Obs], ob_dict[real_map_ob[j]]]\n",
    "        next_SE[j] = OS*np.vdot(np.array(T[:,j]),SE)\n",
    "    return np.array(next_SE/np.linalg.norm(np.array(next_SE)))"
   ]
  },
  {
   "cell_type": "code",
   "execution_count": 7,
   "metadata": {},
   "outputs": [
    {
     "data": {
      "text/plain": [
       "array([6.500e-02, 8.000e-04, 6.510e-02, 7.000e-04, 6.500e-02, 6.850e-02,\n",
       "       1.030e-02, 9.912e-01])"
      ]
     },
     "execution_count": 7,
     "metadata": {},
     "output_type": "execute_result"
    }
   ],
   "source": [
    "SK=main('L', 'D', SE)\n",
    "np.around(main('U', 'B', SK),4)"
   ]
  },
  {
   "cell_type": "code",
   "execution_count": 8,
   "metadata": {},
   "outputs": [],
   "source": [
    "SE_unif = [0.125, 0.125, 0.125, 0.125, 0.125, 0.125, 0.125, 0.125]"
   ]
  },
  {
   "cell_type": "code",
   "execution_count": 9,
   "metadata": {},
   "outputs": [
    {
     "data": {
      "text/plain": [
       "array([0.0753, 0.0011, 0.0753, 0.001 , 0.0753, 0.0857, 0.011 , 0.9877])"
      ]
     },
     "execution_count": 9,
     "metadata": {},
     "output_type": "execute_result"
    }
   ],
   "source": [
    "SK = main('L', 'D', SE_unif)\n",
    "np.around(main('U', 'B', SK),4)"
   ]
  }
 ],
 "metadata": {
  "kernelspec": {
   "display_name": "Python 3",
   "language": "python",
   "name": "python3"
  },
  "language_info": {
   "codemirror_mode": {
    "name": "ipython",
    "version": 3
   },
   "file_extension": ".py",
   "mimetype": "text/x-python",
   "name": "python",
   "nbconvert_exporter": "python",
   "pygments_lexer": "ipython3",
   "version": "3.6.5"
  }
 },
 "nbformat": 4,
 "nbformat_minor": 2
}
