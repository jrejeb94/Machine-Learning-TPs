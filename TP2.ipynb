{
 "cells": [
  {
   "cell_type": "markdown",
   "metadata": {},
   "source": [
    "# TP2"
   ]
  },
  {
   "cell_type": "code",
   "execution_count": 2,
   "metadata": {},
   "outputs": [],
   "source": [
    "import numpy as np\n",
    "from math import sqrt"
   ]
  },
  {
   "cell_type": "code",
   "execution_count": 29,
   "metadata": {},
   "outputs": [],
   "source": [
    "#TN is the transition matrix if the action we take is going North, \n",
    "TN = np.array([[0.05, 0.05, 0, 0.9, 0, 0],\n",
    "               [0.05, 0, 0.05, 0, 0.9, 0],\n",
    "               [0, 0.05, 0.05, 0, 0, 0.9],\n",
    "               [0, 0, 0, 0.95, 0.05, 0],\n",
    "               [0, 0, 0, 0.05, 0.9, 0.05],\n",
    "               [0, 0, 0, 0, 0.05, 0.95]\n",
    "])\n",
    "#TE is the transition matrix if the action we take is going East \n",
    "TE = np.array([[0.05, 0.9, 0, 0.05, 0, 0],\n",
    "               [0, 0.05, 0.9, 0, 0.05, 0],\n",
    "               [0, 0, 0.95, 0, 0, 0.05],\n",
    "               [0.05, 0, 0, 0.05, 0.9, 0],\n",
    "               [0, 0.05, 0, 0, 0.05, 0.9],\n",
    "               [0, 0, 0.05, 0, 0, 0.95]\n",
    "])\n",
    "#TS is the transition matrix if the action we take is going South \n",
    "TS = np.array([[0.95, 0.05, 0, 0, 0, 0],\n",
    "               [0.05, 0.9, 0.05, 0, 0, 0],\n",
    "               [0, 0.05, 0.95, 0, 0, 0],\n",
    "               [0.9, 0, 0, 0.05, 0.05, 0],\n",
    "               [0, 0.9, 0, 0.05, 0, 0.05],\n",
    "               [0, 0, 0.9, 0, 0.05, 0.05]\n",
    "])\n",
    "#TW is the transition matrix if the action we take is going West \n",
    "TW = np.array([[0.95, 0, 0, 0.05, 0, 0],\n",
    "               [0.9, 0.05, 0, 0, 0.05, 0],\n",
    "               [0, 0.9, 0.05, 0, 0, 0.05],\n",
    "               [0.05, 0, 0, 0.95, 0, 0],\n",
    "               [0, 0.05, 0, 0.9, 0.05, 0],\n",
    "               [0, 0, 0.05, 0, 0.9, 0.05]\n",
    "])\n",
    "#TStill is the transition matrix if the action we take is going stay still.\n",
    "TStill = np.identity(6)"
   ]
  },
  {
   "cell_type": "code",
   "execution_count": 78,
   "metadata": {},
   "outputs": [],
   "source": [
    "# Initializing the utility vector with U = 0\n",
    "U0 = np.zeros(6)\n",
    "\n",
    "# Initializing the Reward Vector\n",
    "R = np.array([-0.1, -0.1, 1, -0.1, -0.1, - 0.05])\n"
   ]
  },
  {
   "cell_type": "code",
   "execution_count": 68,
   "metadata": {},
   "outputs": [],
   "source": [
    "def optimal_policy(U, length=6):\n",
    "    P = length*[0]\n",
    "    for i in range(length):\n",
    "        P[i] = np.amax([np.vdot(T[i], U) for T in [TN, TS, TE, TW, TStill]])\n",
    "    return np.array(P)"
   ]
  },
  {
   "cell_type": "code",
   "execution_count": 74,
   "metadata": {},
   "outputs": [],
   "source": [
    "def close_enough(U, next_U, epsillon=0.001):\n",
    "    return np.sqrt((U-next_U).dot(U-next_U))/(U-next_U).size <= epsillon"
   ]
  },
  {
   "cell_type": "code",
   "execution_count": 79,
   "metadata": {},
   "outputs": [],
   "source": [
    "def main(R, Gamma, U0): \n",
    "    nbr_state = len(R)\n",
    "    U = U0\n",
    "    next_U = R + Gamma*optimal_policy(U)\n",
    "    nbr_iter = 1\n",
    "    while not close_enough(U, next_U):\n",
    "        U = next_U\n",
    "        next_U = R + Gamma*optimal_policy(U)\n",
    "        nbr_iter += 1\n",
    "    return next_U, nbr_iter"
   ]
  },
  {
   "cell_type": "code",
   "execution_count": 89,
   "metadata": {
    "scrolled": true
   },
   "outputs": [
    {
     "name": "stdout",
     "output_type": "stream",
     "text": [
      "For a Gamma = 0.999 the utilities converge after 6010 iterations\n"
     ]
    }
   ],
   "source": [
    "# Discount factor\n",
    "Gamma = 0.999\n",
    "_, nbr_iter = main(R, Gamma, U0)\n",
    "print(\"For a Gamma = {0} the utilities converge after {1} iterations\".format(Gamma, nbr_iter))"
   ]
  },
  {
   "cell_type": "code",
   "execution_count": 88,
   "metadata": {},
   "outputs": [
    {
     "name": "stdout",
     "output_type": "stream",
     "text": [
      "For a Gamma = 0.1 the utilities converge after 4 iterations\n"
     ]
    }
   ],
   "source": [
    "# Discount factor\n",
    "Gamma = 0.1\n",
    "next_U, nbr_iter = main(R, Gamma, U0)\n",
    "print(\"For a Gamma = {0} the utilities converge after {1} iterations\".format(Gamma, nbr_iter))"
   ]
  },
  {
   "cell_type": "markdown",
   "metadata": {},
   "source": [
    "#### Conclusion: It seems like the bigger the value of Gamma is the more time the algorithm takes to converge."
   ]
  }
 ],
 "metadata": {
  "kernelspec": {
   "display_name": "Python 3",
   "language": "python",
   "name": "python3"
  },
  "language_info": {
   "codemirror_mode": {
    "name": "ipython",
    "version": 3
   },
   "file_extension": ".py",
   "mimetype": "text/x-python",
   "name": "python",
   "nbconvert_exporter": "python",
   "pygments_lexer": "ipython3",
   "version": "3.6.5"
  }
 },
 "nbformat": 4,
 "nbformat_minor": 2
}
